{
 "cells": [
  {
   "cell_type": "markdown",
   "id": "946f2dcc-d6fd-42f6-9284-8533f390221e",
   "metadata": {},
   "source": [
    "### Import Statements"
   ]
  },
  {
   "cell_type": "code",
   "execution_count": 1,
   "id": "d7cddc9a-4cdc-4aba-bb92-6e2eff534874",
   "metadata": {},
   "outputs": [],
   "source": [
    "from datasets import load_dataset\n",
    "from transformers import AutoTokenizer\n",
    "from transformers import AutoModelForSequenceClassification"
   ]
  },
  {
   "cell_type": "markdown",
   "id": "da16ac5b-b671-4920-b0d8-2f429a6b1596",
   "metadata": {},
   "source": [
    "### Load the dataset"
   ]
  },
  {
   "cell_type": "code",
   "execution_count": 2,
   "id": "cbd15073-add7-4d3e-a0f4-a24a50543a89",
   "metadata": {},
   "outputs": [
    {
     "data": {
      "text/plain": [
       "DatasetDict({\n",
       "    train: Dataset({\n",
       "        features: ['text', 'label'],\n",
       "        num_rows: 25000\n",
       "    })\n",
       "    test: Dataset({\n",
       "        features: ['text', 'label'],\n",
       "        num_rows: 25000\n",
       "    })\n",
       "    unsupervised: Dataset({\n",
       "        features: ['text', 'label'],\n",
       "        num_rows: 50000\n",
       "    })\n",
       "})"
      ]
     },
     "execution_count": 2,
     "metadata": {},
     "output_type": "execute_result"
    }
   ],
   "source": [
    "dataset = load_dataset(\"imdb\")\n",
    "dataset"
   ]
  },
  {
   "cell_type": "markdown",
   "id": "5a11c462-2679-4620-9832-d8f84a644925",
   "metadata": {},
   "source": [
    "### Explore dataset"
   ]
  },
  {
   "cell_type": "code",
   "execution_count": 3,
   "id": "b24aeaad-f099-4323-bc67-a878455e2b77",
   "metadata": {},
   "outputs": [
    {
     "data": {
      "text/plain": [
       "{'text': Value(dtype='string', id=None),\n",
       " 'label': ClassLabel(names=['neg', 'pos'], id=None)}"
      ]
     },
     "execution_count": 3,
     "metadata": {},
     "output_type": "execute_result"
    }
   ],
   "source": [
    "dataset[\"train\"].features"
   ]
  },
  {
   "cell_type": "code",
   "execution_count": 4,
   "id": "a22517c5-f7b1-4e47-82db-5c383f90588f",
   "metadata": {},
   "outputs": [
    {
     "data": {
      "text/plain": [
       "{'text': 'I rented I AM CURIOUS-YELLOW from my video store because of all the controversy that surrounded it when it was first released in 1967. I also heard that at first it was seized by U.S. customs if it ever tried to enter this country, therefore being a fan of films considered \"controversial\" I really had to see this for myself.<br /><br />The plot is centered around a young Swedish drama student named Lena who wants to learn everything she can about life. In particular she wants to focus her attentions to making some sort of documentary on what the average Swede thought about certain political issues such as the Vietnam War and race issues in the United States. In between asking politicians and ordinary denizens of Stockholm about their opinions on politics, she has sex with her drama teacher, classmates, and married men.<br /><br />What kills me about I AM CURIOUS-YELLOW is that 40 years ago, this was considered pornographic. Really, the sex and nudity scenes are few and far between, even then it\\'s not shot like some cheaply made porno. While my countrymen mind find it shocking, in reality sex and nudity are a major staple in Swedish cinema. Even Ingmar Bergman, arguably their answer to good old boy John Ford, had sex scenes in his films.<br /><br />I do commend the filmmakers for the fact that any sex shown in the film is shown for artistic purposes rather than just to shock people and make money to be shown in pornographic theaters in America. I AM CURIOUS-YELLOW is a good film for anyone wanting to study the meat and potatoes (no pun intended) of Swedish cinema. But really, this film doesn\\'t have much of a plot.',\n",
       " 'label': 0}"
      ]
     },
     "execution_count": 4,
     "metadata": {},
     "output_type": "execute_result"
    }
   ],
   "source": [
    "dataset[\"train\"][0]"
   ]
  },
  {
   "cell_type": "markdown",
   "id": "32e30804-34fd-4909-b3b6-a37181cb1e41",
   "metadata": {},
   "source": [
    "### Tokenize the dataset"
   ]
  },
  {
   "cell_type": "code",
   "execution_count": 5,
   "id": "5999ae3f-c25d-4668-9245-8ac02cd4f9e3",
   "metadata": {},
   "outputs": [
    {
     "data": {
      "application/vnd.jupyter.widget-view+json": {
       "model_id": "c1501249342c4a128d59fce9763f8af4",
       "version_major": 2,
       "version_minor": 0
      },
      "text/plain": [
       "Map:   0%|          | 0/50000 [00:00<?, ? examples/s]"
      ]
     },
     "metadata": {},
     "output_type": "display_data"
    }
   ],
   "source": [
    "tokenizer = AutoTokenizer.from_pretrained(\"distilbert-base-uncased\")\n",
    "\n",
    "def tokenize_fn(example):\n",
    "    return tokenizer(\n",
    "        example[\"text\"],\n",
    "        padding=\"max_length\",\n",
    "        truncation=True,\n",
    "        max_length=256\n",
    "    )\n",
    "\n",
    "tokenized_datasets = dataset.map(tokenize_fn, batched=True)"
   ]
  },
  {
   "cell_type": "code",
   "execution_count": 6,
   "id": "1293e9ce-bd32-4519-a716-543ee1ce382e",
   "metadata": {
    "scrolled": true
   },
   "outputs": [
    {
     "data": {
      "text/plain": [
       "{'text': '\"I Am Curious: Yellow\" is a risible and pretentious steaming pile. It doesn\\'t matter what one\\'s political views are because this film can hardly be taken seriously on any level. As for the claim that frontal male nudity is an automatic NC-17, that isn\\'t true. I\\'ve seen R-rated films with male nudity. Granted, they only offer some fleeting views, but where are the R-rated films with gaping vulvas and flapping labia? Nowhere, because they don\\'t exist. The same goes for those crappy cable shows: schlongs swinging in the breeze but not a clitoris in sight. And those pretentious indie movies like The Brown Bunny, in which we\\'re treated to the site of Vincent Gallo\\'s throbbing johnson, but not a trace of pink visible on Chloe Sevigny. Before crying (or implying) \"double-standard\" in matters of nudity, the mentally obtuse should take into account one unavoidably obvious anatomical difference between men and women: there are no genitals on display when actresses appears nude, and the same cannot be said for a man. In fact, you generally won\\'t see female genitals in an American film in anything short of porn or explicit erotica. This alleged double-standard is less a double standard than an admittedly depressing ability to come to terms culturally with the insides of women\\'s bodies.',\n",
       " 'label': 0,\n",
       " 'input_ids': [101,\n",
       "  1000,\n",
       "  1045,\n",
       "  2572,\n",
       "  8025,\n",
       "  1024,\n",
       "  3756,\n",
       "  1000,\n",
       "  2003,\n",
       "  1037,\n",
       "  15544,\n",
       "  19307,\n",
       "  1998,\n",
       "  3653,\n",
       "  6528,\n",
       "  20771,\n",
       "  19986,\n",
       "  8632,\n",
       "  1012,\n",
       "  2009,\n",
       "  2987,\n",
       "  1005,\n",
       "  1056,\n",
       "  3043,\n",
       "  2054,\n",
       "  2028,\n",
       "  1005,\n",
       "  1055,\n",
       "  2576,\n",
       "  5328,\n",
       "  2024,\n",
       "  2138,\n",
       "  2023,\n",
       "  2143,\n",
       "  2064,\n",
       "  6684,\n",
       "  2022,\n",
       "  2579,\n",
       "  5667,\n",
       "  2006,\n",
       "  2151,\n",
       "  2504,\n",
       "  1012,\n",
       "  2004,\n",
       "  2005,\n",
       "  1996,\n",
       "  4366,\n",
       "  2008,\n",
       "  19124,\n",
       "  3287,\n",
       "  16371,\n",
       "  25469,\n",
       "  2003,\n",
       "  2019,\n",
       "  6882,\n",
       "  13316,\n",
       "  1011,\n",
       "  2459,\n",
       "  1010,\n",
       "  2008,\n",
       "  3475,\n",
       "  1005,\n",
       "  1056,\n",
       "  2995,\n",
       "  1012,\n",
       "  1045,\n",
       "  1005,\n",
       "  2310,\n",
       "  2464,\n",
       "  1054,\n",
       "  1011,\n",
       "  6758,\n",
       "  3152,\n",
       "  2007,\n",
       "  3287,\n",
       "  16371,\n",
       "  25469,\n",
       "  1012,\n",
       "  4379,\n",
       "  1010,\n",
       "  2027,\n",
       "  2069,\n",
       "  3749,\n",
       "  2070,\n",
       "  25085,\n",
       "  5328,\n",
       "  1010,\n",
       "  2021,\n",
       "  2073,\n",
       "  2024,\n",
       "  1996,\n",
       "  1054,\n",
       "  1011,\n",
       "  6758,\n",
       "  3152,\n",
       "  2007,\n",
       "  21226,\n",
       "  24728,\n",
       "  22144,\n",
       "  2015,\n",
       "  1998,\n",
       "  20916,\n",
       "  4691,\n",
       "  6845,\n",
       "  2401,\n",
       "  1029,\n",
       "  7880,\n",
       "  1010,\n",
       "  2138,\n",
       "  2027,\n",
       "  2123,\n",
       "  1005,\n",
       "  1056,\n",
       "  4839,\n",
       "  1012,\n",
       "  1996,\n",
       "  2168,\n",
       "  3632,\n",
       "  2005,\n",
       "  2216,\n",
       "  10231,\n",
       "  7685,\n",
       "  5830,\n",
       "  3065,\n",
       "  1024,\n",
       "  8040,\n",
       "  7317,\n",
       "  5063,\n",
       "  2015,\n",
       "  11820,\n",
       "  1999,\n",
       "  1996,\n",
       "  9478,\n",
       "  2021,\n",
       "  2025,\n",
       "  1037,\n",
       "  17962,\n",
       "  21239,\n",
       "  1999,\n",
       "  4356,\n",
       "  1012,\n",
       "  1998,\n",
       "  2216,\n",
       "  3653,\n",
       "  6528,\n",
       "  20771,\n",
       "  10271,\n",
       "  5691,\n",
       "  2066,\n",
       "  1996,\n",
       "  2829,\n",
       "  16291,\n",
       "  1010,\n",
       "  1999,\n",
       "  2029,\n",
       "  2057,\n",
       "  1005,\n",
       "  2128,\n",
       "  5845,\n",
       "  2000,\n",
       "  1996,\n",
       "  2609,\n",
       "  1997,\n",
       "  6320,\n",
       "  25624,\n",
       "  1005,\n",
       "  1055,\n",
       "  17061,\n",
       "  3779,\n",
       "  1010,\n",
       "  2021,\n",
       "  2025,\n",
       "  1037,\n",
       "  7637,\n",
       "  1997,\n",
       "  5061,\n",
       "  5710,\n",
       "  2006,\n",
       "  9318,\n",
       "  7367,\n",
       "  5737,\n",
       "  19393,\n",
       "  1012,\n",
       "  2077,\n",
       "  6933,\n",
       "  1006,\n",
       "  2030,\n",
       "  20242,\n",
       "  1007,\n",
       "  1000,\n",
       "  3313,\n",
       "  1011,\n",
       "  3115,\n",
       "  1000,\n",
       "  1999,\n",
       "  5609,\n",
       "  1997,\n",
       "  16371,\n",
       "  25469,\n",
       "  1010,\n",
       "  1996,\n",
       "  10597,\n",
       "  27885,\n",
       "  5809,\n",
       "  2063,\n",
       "  2323,\n",
       "  2202,\n",
       "  2046,\n",
       "  4070,\n",
       "  2028,\n",
       "  14477,\n",
       "  6767,\n",
       "  8524,\n",
       "  6321,\n",
       "  5793,\n",
       "  28141,\n",
       "  4489,\n",
       "  2090,\n",
       "  2273,\n",
       "  1998,\n",
       "  2308,\n",
       "  1024,\n",
       "  2045,\n",
       "  2024,\n",
       "  2053,\n",
       "  8991,\n",
       "  18400,\n",
       "  2015,\n",
       "  2006,\n",
       "  4653,\n",
       "  2043,\n",
       "  19910,\n",
       "  3544,\n",
       "  15287,\n",
       "  1010,\n",
       "  1998,\n",
       "  1996,\n",
       "  2168,\n",
       "  3685,\n",
       "  2022,\n",
       "  2056,\n",
       "  2005,\n",
       "  1037,\n",
       "  2158,\n",
       "  1012,\n",
       "  1999,\n",
       "  2755,\n",
       "  1010,\n",
       "  2017,\n",
       "  3227,\n",
       "  2180,\n",
       "  1005,\n",
       "  1056,\n",
       "  2156,\n",
       "  2931,\n",
       "  102],\n",
       " 'attention_mask': [1,\n",
       "  1,\n",
       "  1,\n",
       "  1,\n",
       "  1,\n",
       "  1,\n",
       "  1,\n",
       "  1,\n",
       "  1,\n",
       "  1,\n",
       "  1,\n",
       "  1,\n",
       "  1,\n",
       "  1,\n",
       "  1,\n",
       "  1,\n",
       "  1,\n",
       "  1,\n",
       "  1,\n",
       "  1,\n",
       "  1,\n",
       "  1,\n",
       "  1,\n",
       "  1,\n",
       "  1,\n",
       "  1,\n",
       "  1,\n",
       "  1,\n",
       "  1,\n",
       "  1,\n",
       "  1,\n",
       "  1,\n",
       "  1,\n",
       "  1,\n",
       "  1,\n",
       "  1,\n",
       "  1,\n",
       "  1,\n",
       "  1,\n",
       "  1,\n",
       "  1,\n",
       "  1,\n",
       "  1,\n",
       "  1,\n",
       "  1,\n",
       "  1,\n",
       "  1,\n",
       "  1,\n",
       "  1,\n",
       "  1,\n",
       "  1,\n",
       "  1,\n",
       "  1,\n",
       "  1,\n",
       "  1,\n",
       "  1,\n",
       "  1,\n",
       "  1,\n",
       "  1,\n",
       "  1,\n",
       "  1,\n",
       "  1,\n",
       "  1,\n",
       "  1,\n",
       "  1,\n",
       "  1,\n",
       "  1,\n",
       "  1,\n",
       "  1,\n",
       "  1,\n",
       "  1,\n",
       "  1,\n",
       "  1,\n",
       "  1,\n",
       "  1,\n",
       "  1,\n",
       "  1,\n",
       "  1,\n",
       "  1,\n",
       "  1,\n",
       "  1,\n",
       "  1,\n",
       "  1,\n",
       "  1,\n",
       "  1,\n",
       "  1,\n",
       "  1,\n",
       "  1,\n",
       "  1,\n",
       "  1,\n",
       "  1,\n",
       "  1,\n",
       "  1,\n",
       "  1,\n",
       "  1,\n",
       "  1,\n",
       "  1,\n",
       "  1,\n",
       "  1,\n",
       "  1,\n",
       "  1,\n",
       "  1,\n",
       "  1,\n",
       "  1,\n",
       "  1,\n",
       "  1,\n",
       "  1,\n",
       "  1,\n",
       "  1,\n",
       "  1,\n",
       "  1,\n",
       "  1,\n",
       "  1,\n",
       "  1,\n",
       "  1,\n",
       "  1,\n",
       "  1,\n",
       "  1,\n",
       "  1,\n",
       "  1,\n",
       "  1,\n",
       "  1,\n",
       "  1,\n",
       "  1,\n",
       "  1,\n",
       "  1,\n",
       "  1,\n",
       "  1,\n",
       "  1,\n",
       "  1,\n",
       "  1,\n",
       "  1,\n",
       "  1,\n",
       "  1,\n",
       "  1,\n",
       "  1,\n",
       "  1,\n",
       "  1,\n",
       "  1,\n",
       "  1,\n",
       "  1,\n",
       "  1,\n",
       "  1,\n",
       "  1,\n",
       "  1,\n",
       "  1,\n",
       "  1,\n",
       "  1,\n",
       "  1,\n",
       "  1,\n",
       "  1,\n",
       "  1,\n",
       "  1,\n",
       "  1,\n",
       "  1,\n",
       "  1,\n",
       "  1,\n",
       "  1,\n",
       "  1,\n",
       "  1,\n",
       "  1,\n",
       "  1,\n",
       "  1,\n",
       "  1,\n",
       "  1,\n",
       "  1,\n",
       "  1,\n",
       "  1,\n",
       "  1,\n",
       "  1,\n",
       "  1,\n",
       "  1,\n",
       "  1,\n",
       "  1,\n",
       "  1,\n",
       "  1,\n",
       "  1,\n",
       "  1,\n",
       "  1,\n",
       "  1,\n",
       "  1,\n",
       "  1,\n",
       "  1,\n",
       "  1,\n",
       "  1,\n",
       "  1,\n",
       "  1,\n",
       "  1,\n",
       "  1,\n",
       "  1,\n",
       "  1,\n",
       "  1,\n",
       "  1,\n",
       "  1,\n",
       "  1,\n",
       "  1,\n",
       "  1,\n",
       "  1,\n",
       "  1,\n",
       "  1,\n",
       "  1,\n",
       "  1,\n",
       "  1,\n",
       "  1,\n",
       "  1,\n",
       "  1,\n",
       "  1,\n",
       "  1,\n",
       "  1,\n",
       "  1,\n",
       "  1,\n",
       "  1,\n",
       "  1,\n",
       "  1,\n",
       "  1,\n",
       "  1,\n",
       "  1,\n",
       "  1,\n",
       "  1,\n",
       "  1,\n",
       "  1,\n",
       "  1,\n",
       "  1,\n",
       "  1,\n",
       "  1,\n",
       "  1,\n",
       "  1,\n",
       "  1,\n",
       "  1,\n",
       "  1,\n",
       "  1,\n",
       "  1,\n",
       "  1,\n",
       "  1,\n",
       "  1,\n",
       "  1,\n",
       "  1,\n",
       "  1,\n",
       "  1,\n",
       "  1,\n",
       "  1,\n",
       "  1,\n",
       "  1,\n",
       "  1,\n",
       "  1,\n",
       "  1,\n",
       "  1,\n",
       "  1,\n",
       "  1,\n",
       "  1,\n",
       "  1,\n",
       "  1,\n",
       "  1,\n",
       "  1,\n",
       "  1,\n",
       "  1]}"
      ]
     },
     "execution_count": 6,
     "metadata": {},
     "output_type": "execute_result"
    }
   ],
   "source": [
    "# 'input_ids' : (the token IDs),\n",
    "# 'attention_mask' : (indicates which tokens are real vs. padding)\n",
    "tokenized_datasets[\"train\"][1]"
   ]
  },
  {
   "cell_type": "markdown",
   "id": "0bab30c8-8bdc-4e8b-9579-6e43bfaf50f9",
   "metadata": {},
   "source": [
    "### Format for Model Training"
   ]
  },
  {
   "cell_type": "code",
   "execution_count": 7,
   "id": "6d638fc3-da80-4a7b-9d30-a13a5ce43aff",
   "metadata": {},
   "outputs": [],
   "source": [
    "tokenized_datasets = tokenized_datasets.remove_columns([\"text\"])\n",
    "tokenized_datasets = tokenized_datasets.rename_column(\"label\", \"labels\")\n",
    "tokenized_datasets.set_format(\"torch\")"
   ]
  },
  {
   "cell_type": "markdown",
   "id": "1852cd72-158c-4c94-9f2f-db57e73b17a4",
   "metadata": {},
   "source": [
    "### Load the model for classification"
   ]
  },
  {
   "cell_type": "code",
   "execution_count": 8,
   "id": "7875c5b3-59b9-4ba6-9546-615960177332",
   "metadata": {},
   "outputs": [
    {
     "name": "stderr",
     "output_type": "stream",
     "text": [
      "2025-06-13 17:20:40.947064: E external/local_xla/xla/stream_executor/cuda/cuda_fft.cc:467] Unable to register cuFFT factory: Attempting to register factory for plugin cuFFT when one has already been registered\n",
      "WARNING: All log messages before absl::InitializeLog() is called are written to STDERR\n",
      "E0000 00:00:1749815441.040245    3755 cuda_dnn.cc:8579] Unable to register cuDNN factory: Attempting to register factory for plugin cuDNN when one has already been registered\n",
      "E0000 00:00:1749815441.068518    3755 cuda_blas.cc:1407] Unable to register cuBLAS factory: Attempting to register factory for plugin cuBLAS when one has already been registered\n",
      "W0000 00:00:1749815441.256823    3755 computation_placer.cc:177] computation placer already registered. Please check linkage and avoid linking the same target more than once.\n",
      "W0000 00:00:1749815441.256863    3755 computation_placer.cc:177] computation placer already registered. Please check linkage and avoid linking the same target more than once.\n",
      "W0000 00:00:1749815441.256867    3755 computation_placer.cc:177] computation placer already registered. Please check linkage and avoid linking the same target more than once.\n",
      "W0000 00:00:1749815441.256870    3755 computation_placer.cc:177] computation placer already registered. Please check linkage and avoid linking the same target more than once.\n",
      "2025-06-13 17:20:41.278935: I tensorflow/core/platform/cpu_feature_guard.cc:210] This TensorFlow binary is optimized to use available CPU instructions in performance-critical operations.\n",
      "To enable the following instructions: AVX2 FMA, in other operations, rebuild TensorFlow with the appropriate compiler flags.\n",
      "Some weights of DistilBertForSequenceClassification were not initialized from the model checkpoint at distilbert-base-uncased and are newly initialized: ['classifier.bias', 'classifier.weight', 'pre_classifier.bias', 'pre_classifier.weight']\n",
      "You should probably TRAIN this model on a down-stream task to be able to use it for predictions and inference.\n"
     ]
    }
   ],
   "source": [
    "model = AutoModelForSequenceClassification.from_pretrained(\"distilbert-base-uncased\", num_labels=2)"
   ]
  },
  {
   "cell_type": "markdown",
   "id": "1c593090-22e3-4b1a-9419-165032dce4c0",
   "metadata": {},
   "source": [
    "### Define Trainer Components"
   ]
  },
  {
   "cell_type": "code",
   "execution_count": 9,
   "id": "b207d83b-add3-4aaf-b124-9c2e4ef02ee2",
   "metadata": {},
   "outputs": [],
   "source": [
    "# !pip install --upgrade accelerate"
   ]
  },
  {
   "cell_type": "code",
   "execution_count": 10,
   "id": "fd1b9667-6adf-4199-ba02-b6c72f399c9e",
   "metadata": {},
   "outputs": [
    {
     "name": "stderr",
     "output_type": "stream",
     "text": [
      "/home/omkarjadhav/Machine_Learning/GenAI/NLP/transformer_models/transformer_env/lib/python3.11/site-packages/torch/cuda/__init__.py:789: UserWarning: Can't initialize NVML\n",
      "  warnings.warn(\"Can't initialize NVML\")\n",
      "/tmp/ipykernel_3755/3436045159.py:14: FutureWarning: `tokenizer` is deprecated and will be removed in version 5.0.0 for `Trainer.__init__`. Use `processing_class` instead.\n",
      "  trainer = Trainer(\n"
     ]
    }
   ],
   "source": [
    "from transformers import TrainingArguments, Trainer\n",
    "\n",
    "training_arguments = TrainingArguments(\n",
    "    output_dir=\"./results\",                  # Where to save checkpoints & logs\n",
    "    eval_strategy=\"epoch\",             # Evaluate the model at the end of each epoch\n",
    "    save_strategy=\"epoch\",                   # Save the model at the end of each epoch\n",
    "    learning_rate=2e-5,                      # Learning rate for the optimizer (2e-5=0.00002) (A small learning rate avoids making large, destructive changes to these well-tuned weights.)\n",
    "    per_device_train_batch_size=8,           # Batch size per device during training\n",
    "    per_device_eval_batch_size=8,            # Batch size per device during evaluation\n",
    "    num_train_epochs=2,                      # Number of Epochs for training. (Number of complete passes through the dataset) (2 is reasonable for fine-tuning, especially when using a pretrained model.)\n",
    "    weight_decay=0.01                        # Regularization to prevent overfitting\n",
    ")\n",
    "\n",
    "trainer = Trainer(\n",
    "    model=model,\n",
    "    args=training_arguments,\n",
    "    train_dataset=tokenized_datasets[\"train\"].shuffle(seed=42).select(range(1000)), # Small subset to train faster\n",
    "    eval_dataset=tokenized_datasets[\"test\"].shuffle(seed=42).select(range(1000)),\n",
    "    tokenizer=tokenizer\n",
    ")"
   ]
  },
  {
   "cell_type": "markdown",
   "id": "f885bd16-80d2-4327-bc79-ccd439fc4902",
   "metadata": {},
   "source": [
    "### Train the Model"
   ]
  },
  {
   "cell_type": "code",
   "execution_count": 11,
   "id": "75873dd8-2f05-499e-83e2-4633b4cfb1b2",
   "metadata": {},
   "outputs": [
    {
     "name": "stderr",
     "output_type": "stream",
     "text": [
      "/home/omkarjadhav/Machine_Learning/GenAI/NLP/transformer_models/transformer_env/lib/python3.11/site-packages/torch/utils/data/dataloader.py:665: UserWarning: 'pin_memory' argument is set as true but no accelerator is found, then device pinned memory won't be used.\n",
      "  warnings.warn(warn_msg)\n"
     ]
    },
    {
     "data": {
      "text/html": [
       "\n",
       "    <div>\n",
       "      \n",
       "      <progress value='250' max='250' style='width:300px; height:20px; vertical-align: middle;'></progress>\n",
       "      [250/250 12:05, Epoch 2/2]\n",
       "    </div>\n",
       "    <table border=\"1\" class=\"dataframe\">\n",
       "  <thead>\n",
       " <tr style=\"text-align: left;\">\n",
       "      <th>Epoch</th>\n",
       "      <th>Training Loss</th>\n",
       "      <th>Validation Loss</th>\n",
       "    </tr>\n",
       "  </thead>\n",
       "  <tbody>\n",
       "    <tr>\n",
       "      <td>1</td>\n",
       "      <td>No log</td>\n",
       "      <td>0.373747</td>\n",
       "    </tr>\n",
       "    <tr>\n",
       "      <td>2</td>\n",
       "      <td>No log</td>\n",
       "      <td>0.390764</td>\n",
       "    </tr>\n",
       "  </tbody>\n",
       "</table><p>"
      ],
      "text/plain": [
       "<IPython.core.display.HTML object>"
      ]
     },
     "metadata": {},
     "output_type": "display_data"
    },
    {
     "name": "stderr",
     "output_type": "stream",
     "text": [
      "/home/omkarjadhav/Machine_Learning/GenAI/NLP/transformer_models/transformer_env/lib/python3.11/site-packages/torch/utils/data/dataloader.py:665: UserWarning: 'pin_memory' argument is set as true but no accelerator is found, then device pinned memory won't be used.\n",
      "  warnings.warn(warn_msg)\n"
     ]
    },
    {
     "data": {
      "text/plain": [
       "TrainOutput(global_step=250, training_loss=0.39873056030273435, metrics={'train_runtime': 728.2935, 'train_samples_per_second': 2.746, 'train_steps_per_second': 0.343, 'total_flos': 132467398656000.0, 'train_loss': 0.39873056030273435, 'epoch': 2.0})"
      ]
     },
     "execution_count": 11,
     "metadata": {},
     "output_type": "execute_result"
    }
   ],
   "source": [
    "trainer.train()"
   ]
  },
  {
   "cell_type": "markdown",
   "id": "d0e0571d-440d-42f0-a918-4b64f3a61e50",
   "metadata": {},
   "source": [
    "### Evaluate"
   ]
  },
  {
   "cell_type": "code",
   "execution_count": 12,
   "id": "d49a8557-56fa-42f4-b3e1-dd2abf4751e3",
   "metadata": {},
   "outputs": [
    {
     "name": "stderr",
     "output_type": "stream",
     "text": [
      "/home/omkarjadhav/Machine_Learning/GenAI/NLP/transformer_models/transformer_env/lib/python3.11/site-packages/torch/utils/data/dataloader.py:665: UserWarning: 'pin_memory' argument is set as true but no accelerator is found, then device pinned memory won't be used.\n",
      "  warnings.warn(warn_msg)\n"
     ]
    },
    {
     "data": {
      "text/html": [
       "\n",
       "    <div>\n",
       "      \n",
       "      <progress value='125' max='125' style='width:300px; height:20px; vertical-align: middle;'></progress>\n",
       "      [125/125 00:58]\n",
       "    </div>\n",
       "    "
      ],
      "text/plain": [
       "<IPython.core.display.HTML object>"
      ]
     },
     "metadata": {},
     "output_type": "display_data"
    },
    {
     "data": {
      "text/plain": [
       "{'eval_loss': 0.39076414704322815,\n",
       " 'eval_runtime': 59.3442,\n",
       " 'eval_samples_per_second': 16.851,\n",
       " 'eval_steps_per_second': 2.106,\n",
       " 'epoch': 2.0}"
      ]
     },
     "execution_count": 12,
     "metadata": {},
     "output_type": "execute_result"
    }
   ],
   "source": [
    "trainer.evaluate()"
   ]
  },
  {
   "cell_type": "markdown",
   "id": "5ecca561-e9eb-46b5-83c2-d164acdc27d8",
   "metadata": {},
   "source": [
    "### Save the model"
   ]
  },
  {
   "cell_type": "code",
   "execution_count": 13,
   "id": "ea41d6a8-a6a1-4b76-a0bb-f5fa632efd24",
   "metadata": {},
   "outputs": [],
   "source": [
    "trainer.save_model(\"./model\")"
   ]
  },
  {
   "cell_type": "markdown",
   "id": "1a25c371-154c-4495-bee4-914e274c3fca",
   "metadata": {},
   "source": [
    "# Try with Own Reviews"
   ]
  },
  {
   "cell_type": "code",
   "execution_count": 56,
   "id": "79cc78cc-6248-4872-97a0-a28c58535e33",
   "metadata": {},
   "outputs": [],
   "source": [
    "from transformers import AutoTokenizer, AutoModelForSequenceClassification\n",
    "import torch\n",
    "import torch.nn.functional as F"
   ]
  },
  {
   "cell_type": "markdown",
   "id": "3567bf32-7bb1-40ed-ae84-dfe63c526ba3",
   "metadata": {},
   "source": [
    "#### Load the saved model and Tokenizer"
   ]
  },
  {
   "cell_type": "code",
   "execution_count": 57,
   "id": "7a4d8e59-b8ce-4e0c-8d18-da19d6792344",
   "metadata": {},
   "outputs": [
    {
     "data": {
      "text/plain": [
       "DistilBertForSequenceClassification(\n",
       "  (distilbert): DistilBertModel(\n",
       "    (embeddings): Embeddings(\n",
       "      (word_embeddings): Embedding(30522, 768, padding_idx=0)\n",
       "      (position_embeddings): Embedding(512, 768)\n",
       "      (LayerNorm): LayerNorm((768,), eps=1e-12, elementwise_affine=True)\n",
       "      (dropout): Dropout(p=0.1, inplace=False)\n",
       "    )\n",
       "    (transformer): Transformer(\n",
       "      (layer): ModuleList(\n",
       "        (0-5): 6 x TransformerBlock(\n",
       "          (attention): DistilBertSdpaAttention(\n",
       "            (dropout): Dropout(p=0.1, inplace=False)\n",
       "            (q_lin): Linear(in_features=768, out_features=768, bias=True)\n",
       "            (k_lin): Linear(in_features=768, out_features=768, bias=True)\n",
       "            (v_lin): Linear(in_features=768, out_features=768, bias=True)\n",
       "            (out_lin): Linear(in_features=768, out_features=768, bias=True)\n",
       "          )\n",
       "          (sa_layer_norm): LayerNorm((768,), eps=1e-12, elementwise_affine=True)\n",
       "          (ffn): FFN(\n",
       "            (dropout): Dropout(p=0.1, inplace=False)\n",
       "            (lin1): Linear(in_features=768, out_features=3072, bias=True)\n",
       "            (lin2): Linear(in_features=3072, out_features=768, bias=True)\n",
       "            (activation): GELUActivation()\n",
       "          )\n",
       "          (output_layer_norm): LayerNorm((768,), eps=1e-12, elementwise_affine=True)\n",
       "        )\n",
       "      )\n",
       "    )\n",
       "  )\n",
       "  (pre_classifier): Linear(in_features=768, out_features=768, bias=True)\n",
       "  (classifier): Linear(in_features=768, out_features=2, bias=True)\n",
       "  (dropout): Dropout(p=0.2, inplace=False)\n",
       ")"
      ]
     },
     "execution_count": 57,
     "metadata": {},
     "output_type": "execute_result"
    }
   ],
   "source": [
    "model_path = \"./model\"\n",
    "\n",
    "tokenizer = AutoTokenizer.from_pretrained(model_path)\n",
    "model = AutoModelForSequenceClassification.from_pretrained(model_path)\n",
    "\n",
    "model.eval()"
   ]
  },
  {
   "cell_type": "code",
   "execution_count": 58,
   "id": "ee0b8903-8b5d-45a2-9337-04e88a66e1d1",
   "metadata": {},
   "outputs": [],
   "source": [
    "review = \"This movie was absolutely fantastic! Loved the acting and direction.\""
   ]
  },
  {
   "cell_type": "code",
   "execution_count": 59,
   "id": "bedd7cf0-0090-4eaf-abfb-13e7c691f287",
   "metadata": {},
   "outputs": [],
   "source": [
    "tokenized_review = tokenizer(review, return_tensors=\"pt\", padding='max_length', truncation=True, max_length=256) # return_tensors=\"pt\": Returns the tokenized output as PyTorch tensors (PyTorch backend is being used)."
   ]
  },
  {
   "cell_type": "code",
   "execution_count": 60,
   "id": "c93ae476-8c07-4d0b-93c2-6fe474d0c998",
   "metadata": {},
   "outputs": [
    {
     "data": {
      "text/plain": [
       "{'input_ids': tensor([[  101,  2023,  3185,  2001,  7078, 10392,   999,  3866,  1996,  3772,\n",
       "          1998,  3257,  1012,   102,     0,     0,     0,     0,     0,     0,\n",
       "             0,     0,     0,     0,     0,     0,     0,     0,     0,     0,\n",
       "             0,     0,     0,     0,     0,     0,     0,     0,     0,     0,\n",
       "             0,     0,     0,     0,     0,     0,     0,     0,     0,     0,\n",
       "             0,     0,     0,     0,     0,     0,     0,     0,     0,     0,\n",
       "             0,     0,     0,     0,     0,     0,     0,     0,     0,     0,\n",
       "             0,     0,     0,     0,     0,     0,     0,     0,     0,     0,\n",
       "             0,     0,     0,     0,     0,     0,     0,     0,     0,     0,\n",
       "             0,     0,     0,     0,     0,     0,     0,     0,     0,     0,\n",
       "             0,     0,     0,     0,     0,     0,     0,     0,     0,     0,\n",
       "             0,     0,     0,     0,     0,     0,     0,     0,     0,     0,\n",
       "             0,     0,     0,     0,     0,     0,     0,     0,     0,     0,\n",
       "             0,     0,     0,     0,     0,     0,     0,     0,     0,     0,\n",
       "             0,     0,     0,     0,     0,     0,     0,     0,     0,     0,\n",
       "             0,     0,     0,     0,     0,     0,     0,     0,     0,     0,\n",
       "             0,     0,     0,     0,     0,     0,     0,     0,     0,     0,\n",
       "             0,     0,     0,     0,     0,     0,     0,     0,     0,     0,\n",
       "             0,     0,     0,     0,     0,     0,     0,     0,     0,     0,\n",
       "             0,     0,     0,     0,     0,     0,     0,     0,     0,     0,\n",
       "             0,     0,     0,     0,     0,     0,     0,     0,     0,     0,\n",
       "             0,     0,     0,     0,     0,     0,     0,     0,     0,     0,\n",
       "             0,     0,     0,     0,     0,     0,     0,     0,     0,     0,\n",
       "             0,     0,     0,     0,     0,     0,     0,     0,     0,     0,\n",
       "             0,     0,     0,     0,     0,     0,     0,     0,     0,     0,\n",
       "             0,     0,     0,     0,     0,     0]]), 'attention_mask': tensor([[1, 1, 1, 1, 1, 1, 1, 1, 1, 1, 1, 1, 1, 1, 0, 0, 0, 0, 0, 0, 0, 0, 0, 0,\n",
       "         0, 0, 0, 0, 0, 0, 0, 0, 0, 0, 0, 0, 0, 0, 0, 0, 0, 0, 0, 0, 0, 0, 0, 0,\n",
       "         0, 0, 0, 0, 0, 0, 0, 0, 0, 0, 0, 0, 0, 0, 0, 0, 0, 0, 0, 0, 0, 0, 0, 0,\n",
       "         0, 0, 0, 0, 0, 0, 0, 0, 0, 0, 0, 0, 0, 0, 0, 0, 0, 0, 0, 0, 0, 0, 0, 0,\n",
       "         0, 0, 0, 0, 0, 0, 0, 0, 0, 0, 0, 0, 0, 0, 0, 0, 0, 0, 0, 0, 0, 0, 0, 0,\n",
       "         0, 0, 0, 0, 0, 0, 0, 0, 0, 0, 0, 0, 0, 0, 0, 0, 0, 0, 0, 0, 0, 0, 0, 0,\n",
       "         0, 0, 0, 0, 0, 0, 0, 0, 0, 0, 0, 0, 0, 0, 0, 0, 0, 0, 0, 0, 0, 0, 0, 0,\n",
       "         0, 0, 0, 0, 0, 0, 0, 0, 0, 0, 0, 0, 0, 0, 0, 0, 0, 0, 0, 0, 0, 0, 0, 0,\n",
       "         0, 0, 0, 0, 0, 0, 0, 0, 0, 0, 0, 0, 0, 0, 0, 0, 0, 0, 0, 0, 0, 0, 0, 0,\n",
       "         0, 0, 0, 0, 0, 0, 0, 0, 0, 0, 0, 0, 0, 0, 0, 0, 0, 0, 0, 0, 0, 0, 0, 0,\n",
       "         0, 0, 0, 0, 0, 0, 0, 0, 0, 0, 0, 0, 0, 0, 0, 0]])}"
      ]
     },
     "execution_count": 60,
     "metadata": {},
     "output_type": "execute_result"
    }
   ],
   "source": [
    "tokenized_review"
   ]
  },
  {
   "cell_type": "code",
   "execution_count": 61,
   "id": "862094a2-f459-4725-94f9-f89d9751f258",
   "metadata": {},
   "outputs": [],
   "source": [
    "\"\"\"\n",
    "torch.no_grad(): Disables gradient computation, saving memory and computation during inference (not training).\n",
    "\"\"\"\n",
    "with torch.no_grad():\n",
    "    output = model(**tokenized_review)"
   ]
  },
  {
   "cell_type": "code",
   "execution_count": 62,
   "id": "485ae69b-8c5f-4712-9235-27cb9d350846",
   "metadata": {},
   "outputs": [
    {
     "name": "stdout",
     "output_type": "stream",
     "text": [
      "SequenceClassifierOutput(loss=None, logits=tensor([[-1.7516,  1.3329]]), hidden_states=None, attentions=None)\n"
     ]
    }
   ],
   "source": [
    "print(output)"
   ]
  },
  {
   "cell_type": "code",
   "execution_count": 63,
   "id": "733cd45f-7984-4c26-89f9-f7effd87b633",
   "metadata": {},
   "outputs": [
    {
     "name": "stdout",
     "output_type": "stream",
     "text": [
      "tensor([[0.0437, 0.9563]])\n"
     ]
    }
   ],
   "source": [
    "import torch\n",
    "import torch.nn.functional as F\n",
    "\n",
    "\"\"\"\n",
    "outputs.logits: Raw model output before applying activation. These are unnormalized scores for each class.\n",
    "\n",
    "F.softmax(..., dim=1): Converts logits to probabilities across classes (e.g., class 0 = negative, class 1 = positive).\n",
    "\"\"\"\n",
    "probs = F.softmax(output.logits, dim=1)\n",
    "print(probs)"
   ]
  },
  {
   "cell_type": "code",
   "execution_count": 64,
   "id": "5feccb3a-52e2-42d6-a95c-6593f7d7dbfe",
   "metadata": {},
   "outputs": [
    {
     "name": "stdout",
     "output_type": "stream",
     "text": [
      "1\n"
     ]
    }
   ],
   "source": [
    "\"\"\"\n",
    "torch.argmax(..., dim=1): Picks the class (0 or 1) with the highest probability.\n",
    "\n",
    ".item(): Converts the result from a tensor to a regular Python number.\n",
    "\"\"\"\n",
    "predicted_class = torch.argmax(probs, dim=1).item()\n",
    "print(predicted_class)"
   ]
  },
  {
   "cell_type": "code",
   "execution_count": 65,
   "id": "d1ad4cec-98a5-4747-b6e1-f87c0917cd55",
   "metadata": {},
   "outputs": [
    {
     "name": "stdout",
     "output_type": "stream",
     "text": [
      "0.9562507271766663\n"
     ]
    }
   ],
   "source": [
    "\"\"\"\n",
    "Gets the probability (confidence) of the predicted class. This tells you how sure the model is.\n",
    "\"\"\"\n",
    "print(probs[0][predicted_class].item())"
   ]
  },
  {
   "cell_type": "code",
   "execution_count": 66,
   "id": "e40f1fb9-8f93-4388-a973-d25bc7528aa3",
   "metadata": {},
   "outputs": [
    {
     "name": "stdout",
     "output_type": "stream",
     "text": [
      "Positive\n"
     ]
    }
   ],
   "source": [
    "label = \"Positive\" if predicted_class == 1 else \"Negative\"\n",
    "print(label)"
   ]
  },
  {
   "cell_type": "code",
   "execution_count": null,
   "id": "34bc7f2d-b029-4939-98c3-03fe192be56b",
   "metadata": {},
   "outputs": [],
   "source": []
  },
  {
   "cell_type": "code",
   "execution_count": null,
   "id": "dc38f8ce-22bd-4ed9-906d-0c02f339b67c",
   "metadata": {},
   "outputs": [],
   "source": []
  }
 ],
 "metadata": {
  "kernelspec": {
   "display_name": "Python 3 (ipykernel)",
   "language": "python",
   "name": "python3"
  },
  "language_info": {
   "codemirror_mode": {
    "name": "ipython",
    "version": 3
   },
   "file_extension": ".py",
   "mimetype": "text/x-python",
   "name": "python",
   "nbconvert_exporter": "python",
   "pygments_lexer": "ipython3",
   "version": "3.11.13"
  }
 },
 "nbformat": 4,
 "nbformat_minor": 5
}
